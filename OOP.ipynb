{
 "cells": [
  {
   "attachments": {},
   "cell_type": "markdown",
   "metadata": {},
   "source": [
    "# OOP\n"
   ]
  },
  {
   "cell_type": "code",
   "execution_count": 19,
   "metadata": {},
   "outputs": [],
   "source": [
    "from abc import ABC, abstractmethod\n",
    "from datetime import datetime\n",
    "from typing import List\n"
   ]
  },
  {
   "attachments": {},
   "cell_type": "markdown",
   "metadata": {},
   "source": [
    "# Abstraction\n"
   ]
  },
  {
   "cell_type": "code",
   "execution_count": 20,
   "metadata": {},
   "outputs": [],
   "source": [
    "class Artwork:\n",
    "    \"\"\"Representation of an artwork for the abstraction concept example.\"\"\"\n",
    "\n",
    "    def __init__(self, title: str, description: str, published_year: int) -> None:\n",
    "        \"\"\"Creates a new instance of Artwork.\n",
    "\n",
    "        Args:\n",
    "            title (str): Title of the artwork.\n",
    "            description (str): Description of the artwork.\n",
    "            published_year (int): Year that the artwork was published.\n",
    "        \"\"\"\n",
    "        self.title = title\n",
    "        self.description = description\n",
    "        self.published_year = published_year\n"
   ]
  },
  {
   "cell_type": "code",
   "execution_count": 21,
   "metadata": {},
   "outputs": [],
   "source": [
    "class Artist(ABC):\n",
    "    \"\"\"Representation of an artist for the abstraction concept example.\"\"\"\n",
    "\n",
    "    def __init__(self,\n",
    "                 name: str,\n",
    "                 birthdate: datetime,\n",
    "                 published_works: List[Artwork]) -> None:\n",
    "        \"\"\"Creates a new instance of Artist.\n",
    "\n",
    "        Args:\n",
    "            name (str): Name of the artist.\n",
    "            birthdate (datetime): Birthdate of the artist.\n",
    "            published_date (List[Artwork]): Published works of the artist.\n",
    "        \"\"\"\n",
    "        self.name = name\n",
    "        self.birthdate = birthdate\n",
    "        self.published_works = published_works\n",
    "\n",
    "    @abstractmethod\n",
    "    def get_name(self) -> str:\n",
    "        \"\"\"Returns the name of the artist.\"\"\"\n",
    "        pass\n",
    "\n",
    "    @abstractmethod\n",
    "    def set_name(self, new_name: str) -> None:\n",
    "        \"\"\"Sets the name of the artist.\"\"\"\n",
    "        pass\n",
    "\n",
    "    @abstractmethod\n",
    "    def get_birthdate(self) -> datetime:\n",
    "        \"\"\"Returns the birthdate of the artist.\"\"\"\n",
    "        pass\n",
    "\n",
    "    @abstractmethod\n",
    "    def set_birthdate(self, new_birthdate: datetime) -> None:\n",
    "        \"\"\"Sets the birthdate of the artist.\"\"\"\n",
    "        pass\n",
    "\n",
    "    @abstractmethod\n",
    "    def add_work(self, art_work: Artwork) -> None:\n",
    "        \"\"\"\n",
    "        Adds a work to the published_works list.\n",
    "\n",
    "        Args:\n",
    "            art_work: Work to be added to the published_works list.\n",
    "        \"\"\"\n",
    "        pass\n"
   ]
  },
  {
   "cell_type": "code",
   "execution_count": 22,
   "metadata": {},
   "outputs": [],
   "source": [
    "class Writer(Artist):\n",
    "    \"\"\"Representation of a writer for the abstraction concept example.\"\"\"\n",
    "\n",
    "    def __init__(self,\n",
    "                 name: str,\n",
    "                 birthdate: datetime,\n",
    "                 published_works: List[Artwork]) -> None:\n",
    "        \"\"\"Creates a new instance of Writer.\"\"\"\n",
    "        super().__init__(name, birthdate, published_works)\n",
    "\n",
    "    def __str__(self) -> str:\n",
    "        \"\"\"Changes the way the object will be printed.\"\"\"\n",
    "        str_name = f'Name: {self.name}'\n",
    "        str_birthdate = f'Birthdate: {self.birthdate.strftime(\"%m/%d/%Y\")}'\n",
    "        str_published_works = 'Published Works:'\n",
    "\n",
    "        for published_work in self.published_works:\n",
    "            str_title = f'Title: {published_work.title}'\n",
    "            str_description = f'Description: {published_work.description}'\n",
    "            str_published_year = ('Year it was published: '\n",
    "                                  f'{published_work.published_year}')\n",
    "\n",
    "            str_published_works += (\n",
    "                f'\\n\\t\\t{str_title}'\n",
    "                f'\\n\\t\\t{str_description}'\n",
    "                f'\\n\\t\\t{str_published_year}\\n'\n",
    "            )\n",
    "\n",
    "        return (\n",
    "            f'Writer:'\n",
    "            f'\\n\\t{str_name}'\n",
    "            f'\\n\\t{str_birthdate}'\n",
    "            f'\\n\\t{str_published_works}'\n",
    "        )\n",
    "\n",
    "    def get_name(self) -> str:\n",
    "        return self.name\n",
    "\n",
    "    def set_name(self, new_name: str) -> None:\n",
    "        self.name = new_name\n",
    "\n",
    "    def get_birthdate(self) -> datetime:\n",
    "        return self.birthdate\n",
    "\n",
    "    def set_birthdate(self, new_birthdate: datetime) -> None:\n",
    "        self.birthdate = new_birthdate\n",
    "\n",
    "    def add_work(self, art_work: Artwork) -> None:\n",
    "        self.published_works.append(art_work)\n"
   ]
  },
  {
   "cell_type": "code",
   "execution_count": 23,
   "metadata": {},
   "outputs": [
    {
     "name": "stdout",
     "output_type": "stream",
     "text": [
      "Writer:\n",
      "\tName: Charles Dickens\n",
      "\tBirthdate: 07/02/1812\n",
      "\tPublished Works:\n",
      "\t\tTitle: Great Expectations\n",
      "\t\tDescription: With its thrilling story that is also a profound look at the moral education of a boy who has been persecuted and deceived but whose essential goodness of heart eventually rescues him from snobbery and delusion. Everything is in harmony in this almost perfect novel: the character of Pip himself, and his interaction with the immense figures of the convict Magwitch, the embittered and half-mad Miss Havisham, and the beautiful, cold Estella. This is Dickens`s most finely crafted book, and his most moving.\n",
      "\t\tYear it was published: 1861\n",
      "\n",
      "\t\tTitle: Our Mutual Friend\n",
      "\t\tDescription: His final complete novel, with its vast panoply of characters, its emotional generosity, its violent drama, its rich humor - and its author`s most likeable (because imperfect) heroine, Bella Wilfer. I`ve actually read this book aloud twice, and still find it irresistible.\n",
      "\t\tYear it was published: 1865\n",
      "\n"
     ]
    }
   ],
   "source": [
    "writer = Writer(\n",
    "    name='Charles Dickens',\n",
    "    birthdate=datetime(\n",
    "        year=1812,\n",
    "        month=7,\n",
    "        day=2\n",
    "    ),\n",
    "    published_works=[\n",
    "        Artwork(\n",
    "            title='Great Expectations',\n",
    "            description='With its thrilling story that is also a profound look '\n",
    "            'at the moral education of a boy who has been persecuted and '\n",
    "            'deceived but whose essential goodness of heart eventually rescues '\n",
    "            'him from snobbery and delusion. Everything is in harmony in this '\n",
    "            'almost perfect novel: the character of Pip himself, and his '\n",
    "            'interaction with the immense figures of the convict Magwitch, the '\n",
    "            'embittered and half-mad Miss Havisham, and the beautiful, cold '\n",
    "            'Estella. This is Dickens`s most finely crafted book, and his most '\n",
    "            'moving.',\n",
    "            published_year=1861\n",
    "        )\n",
    "    ]\n",
    ")\n",
    "\n",
    "writer.add_work(Artwork(\n",
    "    title='Our Mutual Friend',\n",
    "    description='His final complete novel, with its vast panoply of characters,'\n",
    "    ' its emotional generosity, its violent drama, its rich humor - and its '\n",
    "    'author`s most likeable (because imperfect) heroine, Bella Wilfer. I`ve '\n",
    "    'actually read this book aloud twice, and still find it irresistible.',\n",
    "    published_year=1865\n",
    "))\n",
    "\n",
    "print(writer)\n"
   ]
  },
  {
   "attachments": {},
   "cell_type": "markdown",
   "metadata": {},
   "source": [
    "# Encapsulation\n"
   ]
  },
  {
   "cell_type": "code",
   "execution_count": 24,
   "metadata": {},
   "outputs": [],
   "source": [
    "class BankAccount:\n",
    "    \"\"\"Representation of a bank account for the encapsulation concept example.\"\"\"\n",
    "\n",
    "    def __init__(self, owner: str, money: float) -> None:\n",
    "        \"\"\"Creates a new instance of BankAccount.\n",
    "\n",
    "        Args:\n",
    "            owner (str): Name of the owner of the bank account.\n",
    "            money (str): Amount of money in the bank account.\n",
    "        \"\"\"\n",
    "        self.owner = owner\n",
    "        self.__money = money\n",
    "\n",
    "    def __str__(self) -> str:\n",
    "        \"\"\"Changes the way the object will be printed.\"\"\"\n",
    "        str_owner = f'Owner: {self.owner}'\n",
    "        str_money = f'Money: {self.__money:.2f}'\n",
    "\n",
    "        return f'Bank Account:\\n\\t{str_owner}\\n\\t{str_money}'\n",
    "\n",
    "    def get_money(self) -> float:\n",
    "        \"\"\"Returns the amount of money in the bank account.\n",
    "\n",
    "        Returns:\n",
    "            The amount of money in the bank account\n",
    "        \"\"\"\n",
    "        return self.__money\n",
    "\n",
    "    def __set_money(self, new_value: float) -> None:\n",
    "        \"\"\"Set a new value to the amount of money in the bank account.\"\"\"\n",
    "        self.__money = new_value\n",
    "\n",
    "    def add_money(self, money_to_be_added: float) -> None:\n",
    "        \"\"\"Adds money to the bank account.\n",
    "\n",
    "        Args:\n",
    "            money_to_be_added: The amount of money to be added to the bank \n",
    "              account.\n",
    "        \"\"\"\n",
    "        if money_to_be_added > 0:\n",
    "            self.__set_money(self.get_money() + money_to_be_added)\n",
    "            print(\n",
    "                f'{money_to_be_added:.2f}$ have been added to your bank '\n",
    "                f'account. Now it has {self.get_money():.2f}$')\n",
    "        else:\n",
    "            print('Can only add values greater than 0$!')\n",
    "\n",
    "    def remove_money(self, money_to_be_removed: float) -> None:\n",
    "        \"\"\"Removes money from the bank account.\n",
    "\n",
    "        Args:\n",
    "            money_to_be_removed: The amount of money to be removed from the bank \n",
    "              account.\n",
    "        \"\"\"\n",
    "        if money_to_be_removed > 0:\n",
    "            self.__set_money(self.get_money() - money_to_be_removed)\n",
    "            print(\n",
    "                f'{money_to_be_removed}$ have been removed to your bank '\n",
    "                f'account. Now it has {self.get_money():.2f}$')\n",
    "        else:\n",
    "            print('Can only remove values greater than 0$!')\n"
   ]
  },
  {
   "cell_type": "code",
   "execution_count": 25,
   "metadata": {},
   "outputs": [],
   "source": [
    "account = BankAccount(owner='Daniel', money=2560.20)\n"
   ]
  },
  {
   "cell_type": "code",
   "execution_count": 26,
   "metadata": {},
   "outputs": [
    {
     "name": "stdout",
     "output_type": "stream",
     "text": [
      "153.70$ have been added to your bank account. Now it has 2713.90$\n",
      "Bank Account:\n",
      "\tOwner: Daniel\n",
      "\tMoney: 2713.90\n"
     ]
    }
   ],
   "source": [
    "account.add_money(money_to_be_added=153.70)\n",
    "print(account)\n"
   ]
  },
  {
   "cell_type": "code",
   "execution_count": 27,
   "metadata": {},
   "outputs": [
    {
     "name": "stdout",
     "output_type": "stream",
     "text": [
      "67.04$ have been removed to your bank account. Now it has 2646.86$\n",
      "Bank Account:\n",
      "\tOwner: Daniel\n",
      "\tMoney: 2646.86\n"
     ]
    }
   ],
   "source": [
    "account.remove_money(money_to_be_removed=67.04)\n",
    "print(account)\n"
   ]
  },
  {
   "attachments": {},
   "cell_type": "markdown",
   "metadata": {},
   "source": [
    "# Inheritance\n"
   ]
  },
  {
   "cell_type": "code",
   "execution_count": 28,
   "metadata": {},
   "outputs": [],
   "source": [
    "class Car:\n",
    "    \"\"\"Representation of a car for the inheritance concept example.\"\"\"\n",
    "\n",
    "    def __init__(self,\n",
    "                 model: str,\n",
    "                 manufacturer: str,\n",
    "                 year: int,\n",
    "                 price: int) -> None:\n",
    "        \"\"\"Creates a new instance of Car.\n",
    "\n",
    "        Args:\n",
    "            model (str): Model name of the car.\n",
    "            manufacturer (str): Manufacturer name of the car.\n",
    "            year (int): Year of that the car was build.\n",
    "            price (int): Price of the car.\n",
    "        \"\"\"\n",
    "        self.model = model\n",
    "        self.manufacturer = manufacturer\n",
    "        self.year = year\n",
    "        self.price = price\n",
    "\n",
    "    def __str__(self) -> str:\n",
    "        \"\"\"Changes the way the object will be printed.\"\"\"\n",
    "        str_model = f'Model: {self.model}'\n",
    "        str_manufacturer = f'Manufacturer: {self.manufacturer}'\n",
    "        str_year = f'Year: {self.year}'\n",
    "        str_price = f'Price {self.price}'\n",
    "\n",
    "        return (\n",
    "            'Car:'\n",
    "            f'\\n\\t{str_model}'\n",
    "            f'\\n\\t{str_manufacturer}'\n",
    "            f'\\n\\t{str_year}'\n",
    "            f'\\n\\t{str_price}'\n",
    "        )\n",
    "\n",
    "    def raise_price(self, price_to_add: int) -> None:\n",
    "        \"\"\"Raises the price of the car by the given amount.\n",
    "\n",
    "        Args:\n",
    "            price_to_add (int): Price to be added to the car.\n",
    "        \"\"\"\n",
    "        self.price += price_to_add\n",
    "\n",
    "    def lower_price(self, price_to_subtract: int) -> None:\n",
    "        \"\"\"Subtracts the given value from the price of the car.\n",
    "\n",
    "        Args:\n",
    "            price_to_add (int): Price to be subtracted from the car.\n",
    "        \"\"\"\n",
    "        self.price -= price_to_subtract\n"
   ]
  },
  {
   "cell_type": "code",
   "execution_count": 29,
   "metadata": {},
   "outputs": [],
   "source": [
    "class CombustionCar(Car):\n",
    "    \"\"\"Representation of a combustion car for the inheritance concept example.\"\"\"\n",
    "\n",
    "    def __init__(self,\n",
    "                 model: str,\n",
    "                 manufacturer: str,\n",
    "                 year: int,\n",
    "                 price: int,\n",
    "                 co2_emissions: int,\n",
    "                 fuel_tank_size_litters: int) -> None:\n",
    "        \"\"\"Creates a new instance of CombustionCar.\n",
    "\n",
    "        Args:\n",
    "            co2_emissions (int): Amount of CO2 emissions the car produces in \n",
    "              grams per kilometer.\n",
    "            fuel_tank_size_litters (int): Size of the fuel tank in litters.\n",
    "        \"\"\"\n",
    "        super().__init__(model, manufacturer, year, price)\n",
    "        self.co2_emissions = co2_emissions\n",
    "        self.fuel_tank_size_litters = fuel_tank_size_litters\n",
    "\n",
    "    def __str__(self) -> str:\n",
    "        \"\"\"Changes the way the object will be printed.\"\"\"\n",
    "        str_co2_emissions = f'co2 Emissions: {self.co2_emissions}'\n",
    "        str_fuel_tank_size_litters = ('Fuel Tank Size:'\n",
    "                                      f'{self.fuel_tank_size_litters} litters')\n",
    "\n",
    "        return (\n",
    "            super().__str__() +\n",
    "            f'\\n\\t{str_co2_emissions}'\n",
    "            f'\\n\\t{str_fuel_tank_size_litters}'\n",
    "        )\n"
   ]
  },
  {
   "cell_type": "code",
   "execution_count": 30,
   "metadata": {},
   "outputs": [],
   "source": [
    "class ElectricCar(Car):\n",
    "    \"\"\"Representation of a electric car for the inheritance concept example.\"\"\"\n",
    "\n",
    "    def __init__(self,\n",
    "                 model: str,\n",
    "                 manufacturer: str,\n",
    "                 year: int,\n",
    "                 price: int,\n",
    "                 battery_size_kwh: float) -> None:\n",
    "        \"\"\"Creates a new instance of ElectricCar.\n",
    "\n",
    "        Args:\n",
    "            battery_size_kwh (float): Size of the battery in kilowatt-hours.\n",
    "        \"\"\"\n",
    "        super().__init__(model, manufacturer, year, price)\n",
    "        self.battery_size_kwh = battery_size_kwh\n",
    "\n",
    "    def __str__(self) -> str:\n",
    "        \"\"\"Changes the way the object will be printed.\"\"\"\n",
    "        str_battery_size_kwh = f'Battery Size: {self.battery_size_kwh} kwh'\n",
    "\n",
    "        return super().__str__() + f'\\n\\t{str_battery_size_kwh}'\n"
   ]
  },
  {
   "cell_type": "code",
   "execution_count": 31,
   "metadata": {},
   "outputs": [
    {
     "name": "stdout",
     "output_type": "stream",
     "text": [
      "Car:\n",
      "\tModel: 991\n",
      "\tManufacturer: Porsche\n",
      "\tYear: 1972\n",
      "\tPrice 46895\n",
      "\tco2 Emissions: 250\n",
      "\tFuel Tank Size Litters: 62 litters\n"
     ]
    }
   ],
   "source": [
    "combustion_car = CombustionCar(\n",
    "    model='991',\n",
    "    manufacturer='Porsche',\n",
    "    year=1972,\n",
    "    price=43995,\n",
    "    co2_emissions=250,\n",
    "    fuel_tank_size_litters=62\n",
    ")\n",
    "combustion_car.raise_price(price_to_add=2900)\n",
    "\n",
    "print(combustion_car)\n"
   ]
  },
  {
   "cell_type": "code",
   "execution_count": 32,
   "metadata": {},
   "outputs": [
    {
     "name": "stdout",
     "output_type": "stream",
     "text": [
      "Car:\n",
      "\tModel: e-tron GT\n",
      "\tManufacturer: Audi\n",
      "\tYear: 2022\n",
      "\tPrice 78600\n",
      "\tBattery Size: 93.4 kwh\n"
     ]
    }
   ],
   "source": [
    "electric_car = ElectricCar(\n",
    "    model='e-tron GT',\n",
    "    manufacturer='Audi',\n",
    "    year=2022,\n",
    "    price=79900,\n",
    "    battery_size_kwh=93.4\n",
    ")\n",
    "\n",
    "electric_car.lower_price(price_to_subtract=1300)\n",
    "\n",
    "print(electric_car)\n"
   ]
  },
  {
   "attachments": {},
   "cell_type": "markdown",
   "metadata": {},
   "source": [
    "# Polymorphism\n"
   ]
  },
  {
   "cell_type": "code",
   "execution_count": 33,
   "metadata": {},
   "outputs": [],
   "source": [
    "class Rectangle:\n",
    "    \"\"\"Representation of a rectangle geometric form for the polymorphism \n",
    "      concept example.\n",
    "    \"\"\"\n",
    "\n",
    "    def __init__(self, length: int, width: int) -> None:\n",
    "        \"\"\"Creates a new instance of Rectangle.\n",
    "\n",
    "        Args:\n",
    "            length (int): Length of the rectangle.\n",
    "            width (int): Width of the rectangle.\n",
    "        \"\"\"\n",
    "        self.length = length\n",
    "        self.width = width\n",
    "\n",
    "    def calculate_area(self) -> None:\n",
    "        \"\"\"Calculates the area of the rectangle.\"\"\"\n",
    "        print(f'The rectangle area is: {self.length * self.width}')\n"
   ]
  },
  {
   "cell_type": "code",
   "execution_count": 34,
   "metadata": {},
   "outputs": [],
   "source": [
    "class Square:\n",
    "    \"\"\"Representation of a square geometric form for the polymorphism concept \n",
    "      example.\n",
    "    \"\"\"\n",
    "\n",
    "    def __init__(self, base: int, height: int) -> None:\n",
    "        \"\"\"Creates a new instance of Square.\n",
    "\n",
    "        Args:\n",
    "            base (int): Base of the square.\n",
    "            height (int): Height of the square.\n",
    "        \"\"\"\n",
    "        self.base = base\n",
    "        self.height = height\n",
    "\n",
    "    def calculate_area(self) -> None:\n",
    "        \"\"\"Calculates the area of the square.\"\"\"\n",
    "        print(f'The square area is: {(self.base * self.height) / 2}')\n"
   ]
  },
  {
   "cell_type": "code",
   "execution_count": 35,
   "metadata": {},
   "outputs": [
    {
     "name": "stdout",
     "output_type": "stream",
     "text": [
      "The rectangle area is: 250\n"
     ]
    }
   ],
   "source": [
    "rectangle = Rectangle(length=25, width=10)\n",
    "rectangle.calculate_area()\n"
   ]
  },
  {
   "cell_type": "code",
   "execution_count": 36,
   "metadata": {},
   "outputs": [
    {
     "name": "stdout",
     "output_type": "stream",
     "text": [
      "The square area is: 125.0\n"
     ]
    }
   ],
   "source": [
    "square = Square(base=25, height=10)\n",
    "square.calculate_area()\n"
   ]
  }
 ],
 "metadata": {
  "kernelspec": {
   "display_name": "Python 3",
   "language": "python",
   "name": "python3"
  },
  "language_info": {
   "codemirror_mode": {
    "name": "ipython",
    "version": 3
   },
   "file_extension": ".py",
   "mimetype": "text/x-python",
   "name": "python",
   "nbconvert_exporter": "python",
   "pygments_lexer": "ipython3",
   "version": "3.9.13 (tags/v3.9.13:6de2ca5, May 17 2022, 16:36:42) [MSC v.1929 64 bit (AMD64)]"
  },
  "orig_nbformat": 4,
  "vscode": {
   "interpreter": {
    "hash": "1ccc8ef859ab60c1cf359dd60bb9e8df10a184990cacaf3d4524f70ac25484c2"
   }
  }
 },
 "nbformat": 4,
 "nbformat_minor": 2
}
